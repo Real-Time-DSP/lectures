{
 "cells": [
  {
   "cell_type": "markdown",
   "id": "267e4f8c-85dd-4f36-9ee4-0462952afe5d",
   "metadata": {
    "tags": [
     "remove-nb-cell"
    ]
   },
   "source": [
    "# Infinite impulse response filters\n",
    "\n",
    "## [Slides](https://realtimedsp.net/lectures/_static/IIR.pptx)\n",
    "\n",
    "## [Video: voice synthesis from 1939](https://www.youtube.com/watch?v=TsdOej_nC1M)\n",
    "\n",
    "## [chromagram MATLAB example](https://realtimedsp.net/lectures/_static/chromagram.mlx) ([pdf](https://realtimedsp.net/lectures/_static/chromagram.pdf) , [piano.wav](https://realtimedsp.net/lectures/_static/piano.wav) )\n"
   ]
  }
 ],
 "metadata": {
  "kernelspec": {
   "display_name": "Python 3 (ipykernel)",
   "language": "python",
   "name": "python3"
  },
  "language_info": {
   "codemirror_mode": {
    "name": "ipython",
    "version": 3
   },
   "file_extension": ".py",
   "mimetype": "text/x-python",
   "name": "python",
   "nbconvert_exporter": "python",
   "pygments_lexer": "ipython3",
   "version": "3.10.2"
  }
 },
 "nbformat": 4,
 "nbformat_minor": 5
}

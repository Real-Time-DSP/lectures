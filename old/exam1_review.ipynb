{
 "cells": [
  {
   "cell_type": "markdown",
   "id": "fd0bf25f-0093-4b59-8cc9-27290299d34f",
   "metadata": {
    "slideshow": {
     "slide_type": "slide"
    },
    "tags": []
   },
   "source": [
    "# Exam 1 review"
   ]
  },
  {
   "cell_type": "markdown",
   "id": "04fd54ee-45a4-493c-8a0a-f062b9d22f7b",
   "metadata": {
    "slideshow": {
     "slide_type": "slide"
    },
    "tags": []
   },
   "source": [
    "## Homework 0.1\n",
    "\n",
    "![](img/hw0_1.svg) \n",
    "\n",
    "* Bandwidth is extent in positive frequency\n",
    "  * Can be determined by eyeballing\n",
    "* Convolution property\n",
    "  * Multiplication in time domain is convolution in frequency domain\n",
    "  * Finite observation time $\\leftrightarrow$ spreading in frequency"
   ]
  },
  {
   "cell_type": "markdown",
   "id": "7f8b84b1-1c32-4cc0-9ff3-6c98bcf3f72c",
   "metadata": {
    "slideshow": {
     "slide_type": "slide"
    },
    "tags": []
   },
   "source": [
    "## Homework 0.2 / Homework 1.3\n",
    "\n",
    "![](img/hw0_2.svg) \n",
    "\n",
    "* Modulation property\n",
    "  $$x(t) \\cos{(2\\pi f_0 t)} \\leftrightarrow \\frac 1 2 X(f-f_0) + \\frac 1 2  X(f+f_0)$$\n",
    "* Squaring can replace multiplication by cosine in the demodulator."
   ]
  },
  {
   "cell_type": "markdown",
   "id": "7c1d8856-91d7-4ca7-9ad8-928096e1c853",
   "metadata": {
    "slideshow": {
     "slide_type": "slide"
    },
    "tags": []
   },
   "source": [
    "## Homework 0.3\n",
    "\n",
    "* Sampling can be modeled by multiplication with impulse train\n",
    "* Fourier transform of impulse train is another impulse train\n",
    "* Sampling in time domain $\\leftrightarrow$ replicas in frequency domain\n",
    "\n",
    "![](img/pulse_train.svg)"
   ]
  },
  {
   "cell_type": "markdown",
   "id": "bdff94fa-4ee5-4f7e-9aa9-537549ae9497",
   "metadata": {
    "slideshow": {
     "slide_type": "slide"
    },
    "tags": []
   },
   "source": [
    "## Homework 0.4 / Lab 2\n",
    "\n",
    "* Multiple methods to generate sinusoid\n",
    "  * Function call\n",
    "  * Lookup table\n",
    "  * Difference equation"
   ]
  },
  {
   "cell_type": "markdown",
   "id": "9773c295-2e69-43da-9ea3-578c391c23fa",
   "metadata": {
    "slideshow": {
     "slide_type": "slide"
    },
    "tags": []
   },
   "source": [
    "## Homework 1.1 / Homework 2.1\n",
    "\n",
    "* Moving average\n",
    "* First order difference\n",
    "* Discrete-time integrator\n",
    "* Second order (biquad) bandpass filter\n",
    "\n",
    "[Handout on LTI systems and filters](https://realtimedsp.net/handouts/LTI_systems_filters.html)"
   ]
  },
  {
   "cell_type": "markdown",
   "id": "b4bd8907-01f9-4892-a578-0a34ed523f0b",
   "metadata": {
    "slideshow": {
     "slide_type": "slide"
    },
    "tags": []
   },
   "source": [
    "### Homework 1.2 /2.2\n",
    "\n",
    "* Chirp signals\n",
    "* Spectrogram\n",
    "* Upsampling\n",
    "* Downsampling\n",
    "\n",
    "![](img/upsample_downsample.svg)\n"
   ]
  },
  {
   "cell_type": "markdown",
   "id": "4d4488a0-3bb9-428f-9f6e-6f9d776bef55",
   "metadata": {
    "slideshow": {
     "slide_type": "slide"
    },
    "tags": []
   },
   "source": [
    "### Homework 3.2\n",
    "\n",
    "* Quadrature amplitude modulation\n",
    "* Effect of frequency and phase error\n",
    "\n",
    "![](img/hw3_2.svg)"
   ]
  },
  {
   "cell_type": "markdown",
   "id": "833629ee-d8a4-4b4a-8b3e-9d8125272dac",
   "metadata": {
    "slideshow": {
     "slide_type": "slide"
    },
    "tags": []
   },
   "source": [
    "## Homework 2.3 / 3.3 / Lab 3\n",
    "\n",
    "* [Design and implementation of filters](http://users.ece.utexas.edu/~bevans/courses/realtime/lectures/06_IIR_Filters/announcements.html)"
   ]
  }
 ],
 "metadata": {
  "kernelspec": {
   "display_name": "Python 3 (ipykernel)",
   "language": "python",
   "name": "python3"
  },
  "language_info": {
   "codemirror_mode": {
    "name": "ipython",
    "version": 3
   },
   "file_extension": ".py",
   "mimetype": "text/x-python",
   "name": "python",
   "nbconvert_exporter": "python",
   "pygments_lexer": "ipython3",
   "version": "3.10.1"
  }
 },
 "nbformat": 4,
 "nbformat_minor": 5
}

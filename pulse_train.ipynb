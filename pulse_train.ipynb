{
 "cells": [
  {
   "cell_type": "code",
   "execution_count": 1,
   "id": "5869b4e8-71b0-4335-831e-b05509dce605",
   "metadata": {
    "slideshow": {
     "slide_type": "skip"
    },
    "tags": []
   },
   "outputs": [],
   "source": [
    "using WGLMakie;\n",
    "WGLMakie.activate!()\n",
    "g(t,μ,σ,ω₀) = √(2/(σ*√pi)) .* exp.((-(t.-μ).^2)/(2*σ^2)) .* cos.(ω₀.*t);\n",
    "G(f,μ,σ,ω₀) = g(f,ω₀,1/σ,0) + g(f,-ω₀,1/σ,0);\n",
    "s(f,μ,σ,ω₀,n) = g(f,0,1/σ,0) + sum([ G(f,μ,σ,k*ω₀) for k=1:n]);\n",
    "S(f,μ,σ,ω₀,n) = sum([ g(f,μ,σ,k*ω₀) for k=0:n])\n",
    "t = range(-10,10,1000);\n",
    "μ=0;"
   ]
  },
  {
   "cell_type": "markdown",
   "id": "7dfcb207-6d3a-4122-8363-6c4ee5166b1a",
   "metadata": {
    "slideshow": {
     "slide_type": "slide"
    },
    "tags": []
   },
   "source": [
    "Gaussian pulse with $A = 2^{1/2}\\sigma ^{-1/2} \\pi ^{-1/4}$ for unit energy:\n",
    "\n",
    "$$g(t)= A \\text{ exp} \\left[ \\frac{-t^2}{2\\sigma ^2}\\right] \\xrightarrow{\\mathscr{F}} A \\text{ exp}\\left[ \\frac{-f^2 \\sigma ^2}{2}\\right] = G(f)$$\n",
    "\n",
    "Pair of gaussian pulses separated by distance $2T_0 \\xrightarrow{\\mathscr{F}}$ Gaussian pulse modulated by sinusoid:\n",
    "\n"
   ]
  },
  {
   "cell_type": "markdown",
   "id": "fc2f0ca0-80e2-4cde-a852-7d50c479de8c",
   "metadata": {},
   "source": [
    "$$x(t) = g(t-T_0) + g(t+T_0)$$"
   ]
  },
  {
   "cell_type": "markdown",
   "id": "5025f8ed-85ea-4a90-b28f-551649db8813",
   "metadata": {},
   "source": [
    "$$G(f) \\cos {\\left( 2\\pi T_0 f \\right)} = X(f)$$"
   ]
  },
  {
   "cell_type": "code",
   "execution_count": 2,
   "id": "ccd436d9-4c23-4335-a12c-fe0538804f72",
   "metadata": {
    "slideshow": {
     "slide_type": "slide"
    },
    "tags": [
     "remove-input"
    ]
   },
   "outputs": [
    {
     "data": {},
     "execution_count": 2,
     "metadata": {},
     "output_type": "execute_result"
    }
   ],
   "source": [
    "fig = Figure()\n",
    "lsgrid = labelslidergrid!( fig, [\"log(σ)\", \"ω₀\"], [-1:0.1:1, 0:0.1:10])\n",
    "fig[1, 1] = lsgrid.layout\n",
    "sliderobservables = [s.value for s in lsgrid.sliders]\n",
    "\n",
    "y1 = lift(sliderobservables...) do slvalues...\n",
    "    σ=10.0^(slvalues[1])\n",
    "    ω₀=slvalues[2]    \n",
    "    return G(t,μ,σ,ω₀)\n",
    "end\n",
    "\n",
    "y2 = lift(sliderobservables...) do slvalues...\n",
    "    σ=10.0^(slvalues[1])\n",
    "    ω₀=slvalues[2]   \n",
    "    return g(t,μ,σ,ω₀)\n",
    "end\n",
    "\n",
    "ax = Axis(fig[2, 1],xlabel=\"time\")\n",
    "lines!(ax,t,y1)\n",
    "ylims!(-1.5,3.5)\n",
    "\n",
    "ax = Axis(fig[3, 1],xlabel=\"time\")\n",
    "lines!(ax, t,y2)\n",
    "ylims!(-1.5,3.5)\n",
    "\n",
    "set_close_to!(lsgrid.sliders[1], 0)\n",
    "set_close_to!(lsgrid.sliders[2], 0)\n",
    "fig"
   ]
  },
  {
   "cell_type": "markdown",
   "id": "8aa63c36-3ed3-4dff-aeec-96827d57da12",
   "metadata": {
    "slideshow": {
     "slide_type": "slide"
    },
    "tags": []
   },
   "source": [
    "Sequence of $n$ pulses:\n",
    "\n",
    "$$x(t) = g(t) + \\sum_{k=0}^n g(t-kT_0) + g(t+kT_0) $$\n",
    "\n",
    "What is the Fourier transform in the limit as $n \\to \\infty$?"
   ]
  },
  {
   "cell_type": "code",
   "execution_count": 3,
   "id": "117613bd-26d2-48ea-a61b-6d90dcbc76e2",
   "metadata": {
    "slideshow": {
     "slide_type": "slide"
    },
    "tags": [
     "remove-input"
    ]
   },
   "outputs": [
    {
     "data": {},
     "execution_count": 3,
     "metadata": {},
     "output_type": "execute_result"
    }
   ],
   "source": [
    "fig = Figure()\n",
    "lsgrid = labelslidergrid!( fig, [\"log(σ)\", \"ω₀\", \"n\"], [-1:0.1:1, 0:0.1:10, 1:5])\n",
    "fig[1, 1] = lsgrid.layout\n",
    "sliderobservables = [s.value for s in lsgrid.sliders]\n",
    "\n",
    "g(t,μ,σ,ω₀) = √(2/(σ*√pi)) .* exp.((-(t.-μ).^2)/(2*σ^2)) .* cos.(ω₀.*t);\n",
    "G(f,μ,σ,ω₀) = g(f,ω₀,1/σ,0) + g(f,-ω₀,1/σ,0);\n",
    "t = range(-10,10,1000);\n",
    "μ=0;\n",
    "\n",
    "y1 = lift(sliderobservables...) do slvalues...\n",
    "    σ=10.0^(slvalues[1])\n",
    "    ω₀=slvalues[2]\n",
    "    n=slvalues[3]\n",
    "    \n",
    "    s(t,0,σ,ω₀,n)\n",
    "end\n",
    "\n",
    "y2 = lift(sliderobservables...) do slvalues...\n",
    "    σ=10.0^(slvalues[1])\n",
    "    ω₀=slvalues[2]\n",
    "    n=slvalues[3]\n",
    "    \n",
    "    return S(t,0,σ,ω₀,n)\n",
    "end\n",
    "\n",
    "ax = Axis(fig[2, 1],xlabel=\"time\")\n",
    "lines!(ax, t, y1)\n",
    "ylims!(-1.5,3.5)\n",
    "\n",
    "ax = Axis(fig[3, 1],xlabel=\"frequency\")\n",
    "lines!(ax, t, y2)\n",
    "ylims!(-1.5,3.5)\n",
    "\n",
    "set_close_to!(lsgrid.sliders[1], 0)\n",
    "set_close_to!(lsgrid.sliders[2], 0)\n",
    "set_close_to!(lsgrid.sliders[3], 1)\n",
    "fig"
   ]
  },
  {
   "cell_type": "code",
   "execution_count": null,
   "id": "cb600947-a898-4eda-895b-1394c235e755",
   "metadata": {
    "slideshow": {
     "slide_type": "skip"
    },
    "tags": []
   },
   "outputs": [],
   "source": [
    ";jupyter-nbconvert --to slides pulse_train.ipynb --output pulse_train --TagRemovePreprocessor.enabled=True --TagRemovePreprocessor.remove_input_tags='remove-input'"
   ]
  }
 ],
 "metadata": {
  "kernelspec": {
   "display_name": "Julia 1.7.1",
   "language": "julia",
   "name": "julia-1.7"
  },
  "language_info": {
   "file_extension": ".jl",
   "mimetype": "application/julia",
   "name": "julia",
   "version": "1.7.1"
  }
 },
 "nbformat": 4,
 "nbformat_minor": 5
}

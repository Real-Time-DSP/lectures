{
 "cells": [
  {
   "cell_type": "code",
   "execution_count": 1,
   "id": "5869b4e8-71b0-4335-831e-b05509dce605",
   "metadata": {
    "slideshow": {
     "slide_type": "skip"
    },
    "tags": []
   },
   "outputs": [],
   "source": [
    "using WGLMakie;\n",
    "\n",
    "g(t,μ,σ,ω₀) = √(2/(σ*√pi)) .* exp.((-(t.-μ).^2)/(2*σ^2)) .* cos.(ω₀.*t);\n",
    "G(f,μ,σ,ω₀) = g(f,ω₀,1/σ,0) + g(f,-ω₀,1/σ,0);\n",
    "s(f,μ,σ,ω₀,n) = g(f,0,1/σ,0) + sum([ G(f,μ,σ,k*ω₀) for k=1:n]);\n",
    "S(f,μ,σ,ω₀,n) = sum([ g(f,μ,σ,k*ω₀) for k=0:n])\n",
    "\n",
    "t = range(-10,10,1000);\n",
    "μ=0;"
   ]
  },
  {
   "cell_type": "markdown",
   "id": "7dfcb207-6d3a-4122-8363-6c4ee5166b1a",
   "metadata": {
    "slideshow": {
     "slide_type": "slide"
    },
    "tags": []
   },
   "source": [
    "Gaussian pulse with $A = 2^{1/2}\\sigma ^{-1/2} \\pi ^{-1/4}$ for unit energy:\n",
    "\n",
    "$$g(t)= A \\text{ exp} \\left[ \\frac{-t^2}{2\\sigma ^2}\\right] \\xrightarrow{\\mathscr{F}} A \\text{ exp}\\left[ \\frac{-f^2 \\sigma ^2}{2}\\right] = G(f)$$\n",
    "\n",
    "Pair of gaussian pulses separated by distance $2T_0 \\xrightarrow{\\mathscr{F}}$ Gaussian pulse modulated by sinusoid:\n",
    "\n",
    "$$x(t) = g(t-T_0) + g(t+T_0) \\xrightarrow{\\mathscr{F}} G(f) \\cos {\\left( 2\\pi T_0 f \\right)} = X(f)$$"
   ]
  },
  {
   "cell_type": "code",
   "execution_count": 2,
   "id": "ccd436d9-4c23-4335-a12c-fe0538804f72",
   "metadata": {
    "slideshow": {
     "slide_type": "slide"
    },
    "tags": [
     "remove-input"
    ]
   },
   "outputs": [
    {
     "data": {
      "text/html": [
       "<div data-jscall-id=\"2\"><script data-jscall-id=\"3\" type=\"text/javascript\">\n",
       "    function register_resize_handler(remote_origin) {\n",
       "        function resize_callback(event) {\n",
       "            if (event.origin !== remote_origin) {\n",
       "                return;\n",
       "            }\n",
       "            const uuid = event.data[0];\n",
       "            const width = event.data[1];\n",
       "            const height = event.data[2];\n",
       "            const iframe = document.getElementById('d94e364f-16ec-49a6-9502-55647554373c');\n",
       "            if (iframe) {\n",
       "                iframe.style.width = width + \"px\";\n",
       "                iframe.style.height = height + \"px\";\n",
       "            }\n",
       "        }\n",
       "        if (window.addEventListener) {\n",
       "            window.addEventListener(\"message\", resize_callback, false);\n",
       "        } else if (window.attachEvent) {\n",
       "            window.attachEvent(\"onmessage\", resize_callback);\n",
       "        }\n",
       "    }\n",
       "    register_resize_handler('http://127.0.0.1:9284')\n",
       "\n",
       "</script><iframe scrolling=\"no\" id=\"d94e364f-16ec-49a6-9502-55647554373c\" data-jscall-id=\"1\" src=\"http://127.0.0.1:9284/d94e364f-16ec-49a6-9502-55647554373c\" style=\"position: relative; display: block; width: 100%; height: 100%; padding: 0; overflow: hidden; border: none\"></iframe></div>\n"
      ]
     },
     "execution_count": 2,
     "metadata": {},
     "output_type": "execute_result"
    }
   ],
   "source": [
    "fig = Figure()\n",
    "lsgrid = labelslidergrid!( fig, [\"log(σ)\", \"ω₀\"], [-1:0.1:1, 0:0.1:10])\n",
    "fig[1, 1] = lsgrid.layout\n",
    "sliderobservables = [s.value for s in lsgrid.sliders]\n",
    "\n",
    "y1 = lift(sliderobservables...) do slvalues...\n",
    "    σ=10.0^(slvalues[1])\n",
    "    ω₀=slvalues[2]    \n",
    "    return G(t,μ,σ,ω₀)\n",
    "end\n",
    "\n",
    "y2 = lift(sliderobservables...) do slvalues...\n",
    "    σ=10.0^(slvalues[1])\n",
    "    ω₀=slvalues[2]   \n",
    "    return g(t,μ,σ,ω₀)\n",
    "end\n",
    "\n",
    "ax = Axis(fig[2, 1],xlabel=\"time\")\n",
    "lines!(ax,t,y1)\n",
    "ylims!(-1.5,3.5)\n",
    "\n",
    "ax = Axis(fig[3, 1],xlabel=\"time\")\n",
    "lines!(ax, t,y2)\n",
    "ylims!(-1.5,3.5)\n",
    "\n",
    "set_close_to!(lsgrid.sliders[1], 0)\n",
    "set_close_to!(lsgrid.sliders[2], 0)\n",
    "fig"
   ]
  },
  {
   "cell_type": "markdown",
   "id": "8aa63c36-3ed3-4dff-aeec-96827d57da12",
   "metadata": {
    "slideshow": {
     "slide_type": "slide"
    },
    "tags": []
   },
   "source": [
    "Sequence of $n$ pulses:\n",
    "\n",
    "$$x(t) = g(t) + \\sum_{k=0}^n g(t-kT_0) + g(t+kT_0) $$\n",
    "\n",
    "What is the Fourier transform in the limit as $n \\to \\infty$?"
   ]
  },
  {
   "cell_type": "code",
   "execution_count": 3,
   "id": "117613bd-26d2-48ea-a61b-6d90dcbc76e2",
   "metadata": {
    "slideshow": {
     "slide_type": "slide"
    },
    "tags": [
     "remove-input"
    ]
   },
   "outputs": [
    {
     "data": {
      "text/html": [
       "<div data-jscall-id=\"19\"><script data-jscall-id=\"20\" type=\"text/javascript\">\n",
       "    function register_resize_handler(remote_origin) {\n",
       "        function resize_callback(event) {\n",
       "            if (event.origin !== remote_origin) {\n",
       "                return;\n",
       "            }\n",
       "            const uuid = event.data[0];\n",
       "            const width = event.data[1];\n",
       "            const height = event.data[2];\n",
       "            const iframe = document.getElementById('a857ac2d-a657-49dc-84b9-4528b70fbee0');\n",
       "            if (iframe) {\n",
       "                iframe.style.width = width + \"px\";\n",
       "                iframe.style.height = height + \"px\";\n",
       "            }\n",
       "        }\n",
       "        if (window.addEventListener) {\n",
       "            window.addEventListener(\"message\", resize_callback, false);\n",
       "        } else if (window.attachEvent) {\n",
       "            window.attachEvent(\"onmessage\", resize_callback);\n",
       "        }\n",
       "    }\n",
       "    register_resize_handler('http://127.0.0.1:9284')\n",
       "\n",
       "</script><iframe scrolling=\"no\" id=\"a857ac2d-a657-49dc-84b9-4528b70fbee0\" data-jscall-id=\"18\" src=\"http://127.0.0.1:9284/a857ac2d-a657-49dc-84b9-4528b70fbee0\" style=\"position: relative; display: block; width: 100%; height: 100%; padding: 0; overflow: hidden; border: none\"></iframe></div>\n"
      ]
     },
     "execution_count": 3,
     "metadata": {},
     "output_type": "execute_result"
    }
   ],
   "source": [
    "using WGLMakie\n",
    "\n",
    "fig = Figure()\n",
    "lsgrid = labelslidergrid!( fig, [\"log(σ)\", \"ω₀\", \"n\"], [-1:0.1:1, 0:0.1:10, 1:5])\n",
    "fig[1, 1] = lsgrid.layout\n",
    "sliderobservables = [s.value for s in lsgrid.sliders]\n",
    "\n",
    "g(t,μ,σ,ω₀) = √(2/(σ*√pi)) .* exp.((-(t.-μ).^2)/(2*σ^2)) .* cos.(ω₀.*t);\n",
    "G(f,μ,σ,ω₀) = g(f,ω₀,1/σ,0) + g(f,-ω₀,1/σ,0);\n",
    "t = range(-10,10,1000);\n",
    "μ=0;\n",
    "\n",
    "y1 = lift(sliderobservables...) do slvalues...\n",
    "    σ=10.0^(slvalues[1])\n",
    "    ω₀=slvalues[2]\n",
    "    n=slvalues[3]\n",
    "    \n",
    "    s(t,0,σ,ω₀,n)\n",
    "end\n",
    "\n",
    "y2 = lift(sliderobservables...) do slvalues...\n",
    "    σ=10.0^(slvalues[1])\n",
    "    ω₀=slvalues[2]\n",
    "    n=slvalues[3]\n",
    "    \n",
    "    return S(t,0,σ,ω₀,n)\n",
    "end\n",
    "\n",
    "ax = Axis(fig[2, 1],xlabel=\"time\")\n",
    "lines!(ax, t, y1)\n",
    "ylims!(-1.5,3.5)\n",
    "\n",
    "ax = Axis(fig[3, 1],xlabel=\"frequency\")\n",
    "lines!(ax, t, y2)\n",
    "ylims!(-1.5,3.5)\n",
    "\n",
    "set_close_to!(lsgrid.sliders[1], 0)\n",
    "set_close_to!(lsgrid.sliders[2], 0)\n",
    "set_close_to!(lsgrid.sliders[3], 1)\n",
    "fig"
   ]
  },
  {
   "cell_type": "code",
   "execution_count": 4,
   "id": "cb600947-a898-4eda-895b-1394c235e755",
   "metadata": {
    "slideshow": {
     "slide_type": "skip"
    },
    "tags": []
   },
   "outputs": [
    {
     "name": "stderr",
     "output_type": "stream",
     "text": [
      "[NbConvertApp] Converting notebook pulse_train.ipynb to slides\n",
      "[NbConvertApp] Writing 581725 bytes to pulse_train.slides.html\n"
     ]
    }
   ],
   "source": [
    ";jupyter-nbconvert --to slides pulse_train.ipynb --output pulse_train --TagRemovePreprocessor.enabled=True --TagRemovePreprocessor.remove_input_tags='remove-input'"
   ]
  }
 ],
 "metadata": {
  "kernelspec": {
   "display_name": "Julia 1.7.1",
   "language": "julia",
   "name": "julia-1.7"
  },
  "language_info": {
   "file_extension": ".jl",
   "mimetype": "application/julia",
   "name": "julia",
   "version": "1.7.1"
  }
 },
 "nbformat": 4,
 "nbformat_minor": 5
}
